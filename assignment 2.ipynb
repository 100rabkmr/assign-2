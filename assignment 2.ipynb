{
 "cells": [
  {
   "cell_type": "raw",
   "id": "ae47bb5c",
   "metadata": {},
   "source": [
    "# 1.What are the two values of the Boolean data type? How do you write them?\n",
    "\n",
    "\n",
    "# ans). True and False, using capital T and F, with the rest of the word in lowercase"
   ]
  },
  {
   "cell_type": "raw",
   "id": "33d686bc",
   "metadata": {},
   "source": [
    "# 2. What are the three different types of Boolean operators?\n",
    "\n",
    "\n",
    "\n",
    "# ans). the three boolean type operators (or, and ,not)"
   ]
  },
  {
   "cell_type": "raw",
   "id": "38799e59",
   "metadata": {},
   "source": [
    "# 3. Make a list of each Boolean operator truth tables (i.e. every possible combination of Boolean\n",
    "# values for the operator and what it evaluate ).\n",
    "\n",
    "\n",
    "\n",
    "\n",
    "# ans).       True and True is True.\n",
    "\n",
    "#             True and False is False.\n",
    "\n",
    "#             False and True is False.\n",
    "\n",
    "#             False and False is False.\n",
    "\n",
    "#             True or True is True.\n",
    "\n",
    "#             True or False is True.\n",
    "\n",
    "#             False or True is True.\n",
    "\n",
    "#             False or False is False.\n",
    "\n",
    "#             not True is False.\n",
    "\n",
    "#             not False is True."
   ]
  },
  {
   "cell_type": "raw",
   "id": "ae8ff210",
   "metadata": {},
   "source": [
    "# 4. What do the following expressions evaluate to?\n",
    "# (5 > 4) and (3 == 5)\n",
    "# not (5 > 4)\n",
    "# (5 > 4) or (3 == 5)\n",
    "# not ((5 > 4) or (3 == 5))\n",
    "# (True and True) and (True == False)\n",
    "# (not False) or (not True)\n",
    "\n",
    "\n",
    "\n",
    "# ans)             False\n",
    "#                  False\n",
    "#                  True\n",
    "#                  False\n",
    "#                  False\n",
    "#                  True"
   ]
  },
  {
   "cell_type": "raw",
   "id": "85e7b985",
   "metadata": {},
   "source": [
    "# 5. What are the six comparison operators?\n",
    "\n",
    "# ans).   ==, !=, <, >, <=, and >=."
   ]
  },
  {
   "cell_type": "raw",
   "id": "abc66b27",
   "metadata": {},
   "source": [
    "# 6. How do you tell the difference between the equal to and assignment operators?Describe a\n",
    "# condition and when you would use one.\n",
    "\n",
    "\n",
    "# ans). == is the equal to operator that compares two values and evaluates to a Boolean,\n",
    "# while = is the assignment operator that stores a value in a variable\n",
    "\n",
    "# a==5\n",
    "# print(a)"
   ]
  },
  {
   "cell_type": "raw",
   "id": "ccab1a29",
   "metadata": {},
   "source": [
    "# 7. Identify the three blocks in this code:\n",
    "\n",
    "# spam = 0\n",
    "# if spam == 10:\n",
    "# print('eggs')\n",
    "# if spam > 5:\n",
    "# print('bacon')\n",
    "# else:\n",
    "# print('ham')\n",
    "# print('spam')\n",
    "# print('spam')\n",
    "\n",
    "# ans).     The three blocks are everything inside the if statement and the lines print('bacon') and print('ham').\n",
    "\n",
    "#                                   print('eggs')\n",
    "#                                   if spam > 5:\n",
    "#                                      print('bacon')\n",
    "#                                   else:\n",
    "#                                      print('ham')\n",
    "#                                      print('spam'"
   ]
  },
  {
   "cell_type": "raw",
   "id": "d3bfe7db",
   "metadata": {},
   "source": [
    "# # 8. Write code that prints Hello if 1 is stored in spam, prints Howdy if 2 is stored in spam, and prints Greetings! if anything else is stored in spam.\n",
    "# # The code:\n",
    "\n",
    "# ans) \n",
    "# if spam == 1:\n",
    "#     print('Hello')\n",
    "# elif spam == 2:\n",
    "#     print('Howdy')\n",
    "# else:\n",
    "#     print('Greetings!')"
   ]
  },
  {
   "cell_type": "raw",
   "id": "cd651856",
   "metadata": {},
   "source": [
    "# 9.If your programme is stuck in an endless loop, what keys you’ll press?\n",
    "\n",
    "\n",
    "\n",
    "# ans).   Press CTRL-C to stop a program stuck in an infinite loop."
   ]
  },
  {
   "cell_type": "raw",
   "id": "3c76ead9",
   "metadata": {},
   "source": [
    "# 10 how can you tell the difference between break and continue?\n",
    "\n",
    "\n",
    "\n",
    "# ans).   The break statement will move the execution outside and just after a loop.\n",
    "#         The continue statement will move the execution to the start of the loop."
   ]
  },
  {
   "cell_type": "raw",
   "id": "ac594b56",
   "metadata": {},
   "source": [
    "# 11. In a for loop, what is the difference between range(10), range(0, 10), and range(0, 10, 1)?\n",
    "\n",
    "# They all do the same thing. The range(10) call ranges from 0 up to  10,\n",
    "# range(0, 10) explicitly tells the loop to start at 0, and \n",
    "# range(0, 10, 1) explicitly tells the loop to increase the variable by 1 on each iteration.\n"
   ]
  },
  {
   "cell_type": "raw",
   "id": "5ae57246",
   "metadata": {},
   "source": [
    "# 12 Write a short program that prints the numbers 1 to 10 using a for loop. Then write an equivalent program that prints the numbers 1 to 10 using a while loop.\n",
    "# The code:\n",
    "\n",
    "# for i in range(1, 11):\n",
    "#     print(i)\n",
    "# and:\n",
    "#     i = 1\n",
    "#     while i <= 10:\n",
    "#         print(i)\n",
    "#         i = i + 1"
   ]
  },
  {
   "cell_type": "raw",
   "id": "43859553",
   "metadata": {},
   "source": [
    "# 13 If you had a function named bacon() inside a module named spam, how would you call it after importing spam?\n",
    "\n",
    "\n",
    "# ans).  This function can be called with spam.bacon()."
   ]
  }
 ],
 "metadata": {
  "kernelspec": {
   "display_name": "Python 3 (ipykernel)",
   "language": "python",
   "name": "python3"
  },
  "language_info": {
   "codemirror_mode": {
    "name": "ipython",
    "version": 3
   },
   "file_extension": ".py",
   "mimetype": "text/x-python",
   "name": "python",
   "nbconvert_exporter": "python",
   "pygments_lexer": "ipython3",
   "version": "3.11.7"
  }
 },
 "nbformat": 4,
 "nbformat_minor": 5
}
